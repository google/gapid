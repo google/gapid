{
 "cells": [
  {
   "cell_type": "markdown",
   "metadata": {},
   "source": [
    "# Trace report"
   ]
  },
  {
   "cell_type": "code",
   "execution_count": null,
   "metadata": {
    "tags": [
     "parameters"
    ]
   },
   "outputs": [],
   "source": [
    "trace_file = None"
   ]
  },
  {
   "cell_type": "code",
   "execution_count": null,
   "metadata": {
    "tags": []
   },
   "outputs": [],
   "source": [
    "# Initialize GAPID environment\n",
    "from helpers import gapid_env\n",
    "from helpers import image_formats\n",
    "from helpers import jupyter_helpers\n",
    "from helpers import replay\n",
    "from helpers import trace as gapid_trace\n",
    "from helpers import vulkan\n",
    "\n",
    "\n",
    "from importlib import reload\n",
    "\n",
    "def reload_helpers():\n",
    "    reload(gapid_env)\n",
    "    reload(image_formats)\n",
    "    reload(jupyter_helpers)\n",
    "    reload(replay)\n",
    "    reload(gapid_trace)\n",
    "    reload(vulkan)\n",
    "\n",
    "%matplotlib inline\n",
    "#%matplotlib notebook\n",
    "\n",
    "import os\n",
    "import matplotlib\n",
    "import matplotlib.pyplot as plt\n",
    "import numpy\n",
    "import math\n",
    "from ipyfilechooser import FileChooser\n",
    "from io import BytesIO\n",
    "import imageio\n",
    "import ipywidgets\n",
    "from IPython.display import Markdown\n",
    "from types import SimpleNamespace\n",
    "\n",
    "# Set a good default plot size\n",
    "matplotlib.rcParams['figure.figsize'] = [32, 18]\n",
    "\n",
    "display(Markdown(\"\"\"\n",
    "## Initializing GAPID environment\n",
    "\"\"\"))\n",
    "\n",
    "pathdir = globals()['_dh'][0]\n",
    "env = gapid_env.gapid_env(os.path.normpath(os.path.join(pathdir, \"..\", \"build\", \"RelWithDebInfo\")))\n",
    "env.ignore_debug_messages = True\n",
    "env.ignore_layer_info_messages = True\n"
   ]
  },
  {
   "cell_type": "code",
   "execution_count": null,
   "metadata": {},
   "outputs": [],
   "source": [
    "# Load the trace file if not sent from command-line\n",
    "reload_helpers()\n",
    "\n",
    "display(Markdown(\"\"\"\n",
    "## Loading GAPID trace: \n",
    "\"\"\"))\n",
    "\n",
    "trace = None\n",
    "if trace_file != None:\n",
    "    display(Markdown(f\"\"\"\n",
    "GAPID Trace: {trace_file}\n",
    "    \"\"\"))\n",
    "    trace = gapid_trace.load_trace(env, trace_file)\n",
    "else:\n",
    "    def change_file(chooser):\n",
    "        global trace\n",
    "        current_trace = os.path.join(chooser.selected_path, chooser.selected_filename)\n",
    "        display(Markdown(f\"\"\"\n",
    "GAPID Trace: {current_trace}\n",
    "    \"\"\"))\n",
    "        trace =  gapid_trace.load_trace(env, current_trace)\n",
    "    \n",
    "    fc = FileChooser()\n",
    "    if env.current_trace:\n",
    "        fc.default_path = os.path.dirname(env.current_trace)\n",
    "        fc.default_filename = os.path.basename(env.current_trace)    \n",
    "    fc.filter_pattern = \"*.trace\"\n",
    "    fc.title = \"<b>Select Trace</b>\"\n",
    "    fc.register_callback(change_file)\n",
    "    display(fc)"
   ]
  },
  {
   "cell_type": "markdown",
   "metadata": {},
   "source": [
    "## High-level parameters"
   ]
  },
  {
   "cell_type": "code",
   "execution_count": null,
   "metadata": {},
   "outputs": [],
   "source": [
    "# Some trace stats\n",
    "reload_helpers()\n",
    "\n",
    "frames = trace.get_rendering_info()\n",
    "\n",
    "print(f\"Total frames in trace: {len(frames)}\")\n",
    "print(f\"    Total renderpasses in trace: {sum([len(x) for x in frames])}\")\n",
    "print(f\"    Total drawcalls in trace: {sum([sum([len(y.draw_calls) for y in x]) for x in frames])}\")\n"
   ]
  },
  {
   "cell_type": "markdown",
   "metadata": {},
   "source": [
    "## Renderpass Analysis of first frame\n",
    "\n",
    "### Most Expensive RenderPasses\n",
    "\n",
    "These values are taken across 10 sequential runs to help account for variability in hardware"
   ]
  },
  {
   "cell_type": "code",
   "execution_count": null,
   "metadata": {},
   "outputs": [],
   "source": [
    "reload_helpers()\n",
    "\n",
    "frametimes = []\n",
    "all_timing_data = []\n",
    "\n",
    "for x in range(10):\n",
    "    timestamps = replay.timestamp_helper(env, trace, frames[0], silent=True)\n",
    "    frametimes.append([x['end_time'] - x['start_time'] for x in timestamps])\n",
    "    all_timing_data.append(timestamps)\n",
    "\n",
    "top_render_passes = sorted(sorted(range(len(frametimes[0])), key=lambda i: frametimes[0][i])[-10:])\n",
    "frametimes = numpy.asarray(frametimes)\n",
    "top_frame_times = frametimes[:, top_render_passes]\n",
    "fig = plt.figure()\n",
    "ax = ax=fig.add_subplot(111)\n",
    "bg = ax.boxplot(top_frame_times)\n",
    "ax.set_title('Top 10 Renderpasses by render time')\n",
    "ax.set_xlabel('Render Pass in frame')\n",
    "ax.set_ylabel('Time in nanoseconds')\n",
    "\n",
    "ax.set_xticklabels(top_render_passes)\n",
    "plt.show()"
   ]
  },
  {
   "cell_type": "markdown",
   "metadata": {},
   "source": [
    "### Breakdown of the 10 most expensive RenderPasses by draw-call"
   ]
  },
  {
   "cell_type": "code",
   "execution_count": null,
   "metadata": {},
   "outputs": [],
   "source": [
    "reload_helpers()\n",
    "\n",
    "most_expensive_renderpassses = list(numpy.asarray(frames[0])[top_render_passes])\n",
    "\n",
    "draw_timestamps = replay.timestamp_helper(env, trace, most_expensive_renderpassses, silent=True, draw_calls=True)\n",
    "\n",
    "grouped_times = []\n",
    "for y in draw_timestamps:\n",
    "    grouped_times.append([x['end_time'] - x['start_time'] for x in y['draws']])\n",
    "\n",
    "biggest_value = len(max(grouped_times, key=lambda x: len(x)))\n",
    "added_zeroes = [[0] * (biggest_value - len(x)) for x in grouped_times]\n",
    "for x in range(len(added_zeroes)):\n",
    "    grouped_times[x].extend(added_zeroes[x])\n",
    "grouped_times = numpy.asarray(grouped_times).transpose()\n",
    "\n",
    "fig = plt.figure()\n",
    "ax = fig.add_subplot(111)\n",
    "labels = [str(x) for x in top_render_passes]\n",
    "bott = [0] * len(grouped_times[0])\n",
    "for gt in grouped_times:\n",
    "    ax.bar(labels, gt, bottom=bott)\n",
    "    bott = [gt[i] + bott[i] for i in range(len(gt))]\n",
    "ax.set_title('Top 10 Renderpasses draw time')\n",
    "ax.set_xlabel('Render Pass in frame')\n",
    "ax.set_ylabel('Time in nanoseconds')\n",
    "plt.show()"
   ]
  },
  {
   "cell_type": "markdown",
   "metadata": {},
   "source": [
    "## DrawCall Analysis of first frame\n",
    "\n",
    "### Most Expensive DrawCalls"
   ]
  },
  {
   "cell_type": "code",
   "execution_count": null,
   "metadata": {},
   "outputs": [],
   "source": [
    "reload_helpers()\n",
    "\n",
    "frametimes = []\n",
    "all_timing_data = []\n",
    "\n",
    "for x in range(5):\n",
    "    frame_draw_times = []\n",
    "    timestamps = replay.timestamp_helper(env, trace, frames[0], silent=True, draw_calls=True)\n",
    "    ts = []\n",
    "    for i in range(len(timestamps)):\n",
    "        if not timestamps[i]['draws']:\n",
    "            continue\n",
    "        for y in timestamps[i]['draws']:\n",
    "            y['frame_time'] = y['end_time'] - y['start_time']\n",
    "            y['submit_index'] = timestamps[i]['submit_index']\n",
    "            y['command_buffer_index'] = timestamps[i]['command_buffer_index']\n",
    "            y['render_pass_index'] = timestamps[i]['render_pass_index']\n",
    "            ts.append(y)\n",
    "    frametimes.append(ts)\n",
    "\n",
    "\n",
    "mean_frametime = [sum([frametimes[i][j]['frame_time'] for i in range(len(frametimes))]) / float(len(frametimes)) for j in range(len(frametimes[0]))]\n",
    "\n",
    "rps = sorted(range(len(frametimes[0])), key = lambda z: mean_frametime[z])\n",
    "rps.reverse()\n"
   ]
  },
  {
   "cell_type": "code",
   "execution_count": null,
   "metadata": {},
   "outputs": [],
   "source": [
    "sorted_frametimes = ([frametimes[0][x] for x in rps])\n",
    "\n",
    "txts = []\n",
    "\n",
    "for i in range(10):\n",
    "    x = sorted_frametimes[i]\n",
    "    submissions = [y for y in frames[0] if y.queue_submit == x[\"submit_index\"] and y.queue_submission_index == x[\"command_buffer_index\"]]\n",
    "    nv = []\n",
    "    nv.extend(['frame_time', str(x['frame_time'])])\n",
    "    for k, v in trace.commands[submissions[x[\"render_pass_index\"]].draw_calls[x[\"draw_index\"]].recording_idx].items():\n",
    "        if (k == \"tracer_flags\"):\n",
    "            continue\n",
    "        nv.extend([str(k), str(v)])\n",
    "    txts.append(nv)\n",
    "biggest_value = len(max(txts, key=lambda x: len(x)))\n",
    "added_empties = [[\"\"] * (biggest_value - len(x)) for x in txts]\n",
    "for x in range(len(added_empties)):\n",
    "    txts[x].extend(added_empties[x])\n",
    "\n",
    "s = \"|   \" * (len(txts[0]) + 1) + \"|\\n\"\n",
    "s += \"|-----\"*(len(txts[0]) + 1)\n",
    "s += \"|\\n\"\n",
    "s += \"\\n\".join([\"| \" + \" | \".join(x) + \" |\" for x in txts])\n",
    "display(Markdown(s))"
   ]
  },
  {
   "cell_type": "code",
   "execution_count": null,
   "metadata": {},
   "outputs": [],
   "source": [
    "\n",
    "draws_to_get = []\n",
    "for i in range(10):\n",
    "    x = sorted_frametimes[i]\n",
    "    submissions = [y for y in frames[0] if y.queue_submit == x[\"submit_index\"] and y.queue_submission_index == x[\"command_buffer_index\"]]\n",
    "    \n",
    "    draws_to_get.append(SimpleNamespace(\n",
    "        queue_submit=x[\"submit_index\"],\n",
    "        queue_submission_index=x[\"command_buffer_index\"],\n",
    "        idx=submissions[x[\"render_pass_index\"]].draw_calls[x[\"draw_index\"]].idx,\n",
    "        rpidx=x[\"render_pass_index\"]\n",
    "    ))\n",
    "draws_to_get.sort(key=lambda x: (x.queue_submit, x.queue_submission_index, x.idx))\n",
    "fbs = replay.screenshot_helper(env, trace, draws_to_get, 1, before=True, after=True, silent=True)"
   ]
  },
  {
   "cell_type": "markdown",
   "metadata": {},
   "source": [
    "### Drawing content of the 10 most expensive draw calls"
   ]
  },
  {
   "cell_type": "code",
   "execution_count": null,
   "metadata": {},
   "outputs": [],
   "source": [
    "def normalize_image(img):\n",
    "    if img.dtype == numpy.uint8:\n",
    "        return img\n",
    "    img = numpy.abs(img)\n",
    "    nmax = numpy.max(img)\n",
    "    if nmax == 0:\n",
    "        return img.astype(numpy.uint8)\n",
    "    img = (img.astype(numpy.double) * (255.0 / nmax)).astype(numpy.uint8)\n",
    "    return img\n",
    "\n",
    "width=32\n",
    "height=(32/3 * len(fbs)/2)\n",
    "f, grid = plt.subplots(int(len(fbs)/2), 3, figsize=(width, height))\n",
    "for x in range(int(len(fbs)/2)):\n",
    "    dtg = draws_to_get[x]\n",
    "    before = normalize_image(numpy.flip(fbs[2*x], 0))\n",
    "    after = normalize_image(numpy.flip(fbs[2*x+1], 0))\n",
    "    diff = normalize_image(numpy.flip(numpy.abs(fbs[2*x] - fbs[2*x+1]), 0))\n",
    "    grid[x, 0].imshow(before)\n",
    "    grid[x, 0].title.set_text(f\"Before Command {dtg.queue_submit}-{dtg.rpidx}-{dtg.idx}\")\n",
    "    grid[x, 1].imshow(after)\n",
    "    grid[x, 1].title.set_text(f\"After Command {dtg.queue_submit}-{dtg.rpidx}-{dtg.idx}\")\n",
    "    grid[x, 2].imshow(diff)\n",
    "    grid[x, 2].title.set_text(f\"Diff {dtg.queue_submit}-{dtg.rpidx}-{dtg.idx}\")\n",
    "\n",
    "plt.show()\n",
    "    "
   ]
  }
 ],
 "metadata": {
  "kernelspec": {
   "display_name": "Python 3.9.13 ('base')",
   "language": "python",
   "name": "python3"
  },
  "language_info": {
   "codemirror_mode": {
    "name": "ipython",
    "version": 3
   },
   "file_extension": ".py",
   "mimetype": "text/x-python",
   "name": "python",
   "nbconvert_exporter": "python",
   "pygments_lexer": "ipython3",
   "version": "3.9.13"
  },
  "orig_nbformat": 4,
  "vscode": {
   "interpreter": {
    "hash": "cc8e5058f68ae25fd0b682edbcb4bd875f373e41e844c915b7302617da639678"
   }
  }
 },
 "nbformat": 4,
 "nbformat_minor": 2
}
