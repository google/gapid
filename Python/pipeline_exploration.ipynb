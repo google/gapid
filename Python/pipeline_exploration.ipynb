{
 "cells": [
  {
   "cell_type": "code",
   "execution_count": null,
   "metadata": {},
   "outputs": [],
   "source": [
    "# Initialize trace environment and set up some helper methods\n",
    "from helpers import trace_env\n",
    "from helpers import image_formats\n",
    "from helpers import jupyter_helpers\n",
    "from helpers import replay\n",
    "from helpers import trace as trace_info\n",
    "from helpers import vulkan\n",
    "from helpers import json_html\n",
    "import matplotlib\n",
    "import os\n",
    "import ipywidgets\n",
    "import numpy as np\n",
    "\n",
    "%matplotlib inline\n",
    "matplotlib.rcParams['figure.figsize'] = [16, 9]\n",
    "\n",
    "pathdir = globals()['_dh'][0]\n",
    "env = trace_env.trace_env(os.path.normpath(os.path.join(pathdir, \"..\", \"build\", \"RelWithDebInfo\")))\n",
    "env.ignore_debug_messages = True\n",
    "env.ignore_layer_info_messages = True"
   ]
  },
  {
   "cell_type": "code",
   "execution_count": null,
   "metadata": {},
   "outputs": [],
   "source": [
    "# Select and load trace file\n",
    "from ipyfilechooser import FileChooser\n",
    "\n",
    "fc = FileChooser()\n",
    "if env.current_trace:\n",
    "    fc.default_path = os.path.dirname(env.current_trace)\n",
    "    fc.default_filename = os.path.basename(env.current_trace)\n",
    "\n",
    "fc.filter_pattern = \"*.trace\"\n",
    "fc.title = \"<b>Select Trace</b>\"\n",
    "trace = None\n",
    "def change_file(chooser):\n",
    "    global trace\n",
    "    current_trace = os.path.join(chooser.selected_path, chooser.selected_filename)\n",
    "    trace =  trace_info.load_trace(env, current_trace)\n",
    "fc.register_callback(change_file)\n",
    "display(fc)"
   ]
  },
  {
   "cell_type": "code",
   "execution_count": null,
   "metadata": {},
   "outputs": [],
   "source": [
    "import ipywidgets\n",
    "b = ipywidgets.widgets.HTML(\"\")\n",
    "def show(i, to_show):\n",
    "    b.value = json_html.get_html_for_commands(trace.real_commands[i:i+to_show])\n",
    "\n",
    "ipywidgets.interact(show, to_show=ipywidgets.fixed(20), i=ipywidgets.widgets.IntSlider(min=0, max=len(trace.real_commands) - 10), value=0)\n",
    "display(b)"
   ]
  },
  {
   "cell_type": "code",
   "execution_count": null,
   "metadata": {},
   "outputs": [],
   "source": [
    "\n",
    "opts = replay.replay_options(env, trace)\n",
    "times = []\n",
    "def on_data(timestamp, data):\n",
    "    times.append(data['time'])\n",
    "def on_message(timestamp, level, message):\n",
    "    pass\n",
    "opts.add_layer(os.path.abspath(\"pipeline_time.cpp\"), {}, data_callback=on_data)\n",
    "opts.set_message_callback(on_message)\n",
    "\n",
    "replay.replay(env, opts)\n",
    "\n",
    "fig, ax =  matplotlib.pyplot.subplots()\n",
    "counts, bins, patches = ax.hist(times)\n",
    "ax.set_xticks(bins)\n",
    "for count, rect, bin in zip(counts, patches, bins):\n",
    "    height = rect.get_height()\n",
    "    ax.text(rect.get_x() + rect.get_width() / 2, height+0.01, str(int(count)), ha='center', va='bottom')\n",
    "matplotlib.pyplot.show()"
   ]
  },
  {
   "cell_type": "code",
   "execution_count": null,
   "metadata": {},
   "outputs": [],
   "source": [
    "sorted_times = sorted([x for x in range(len(times))], key=lambda x: times[x])\n",
    "all_pipeline_creations = [x for x in trace.commands if x['name'] == 'vkCreateGraphicsPipelines']\n",
    "\n",
    "ipywidgets.widgets.HTML(json_html.get_html_for_commands(list(np.array(all_pipeline_creations)[sorted_times[:10]])))"
   ]
  },
  {
   "cell_type": "code",
   "execution_count": null,
   "metadata": {},
   "outputs": [],
   "source": [
    "import bisect\n",
    "from collections import defaultdict\n",
    "\n",
    "submissions = trace.get_trace_from_submission_pov()\n",
    "all_submitted_commands = [y.commands for x in submissions[0].queue_submits for y in x.submissions]\n",
    "all_draws = [[y for y in x if \"Draw\" in trace.commands[y[1]]['name']] for x in all_submitted_commands]\n",
    "all_pipeline_binds = [[y for y in x if \"vkCmdBindPipeline\" == trace.commands[y[1]]['name'] and trace.commands[y[1]]['pipelineBindPoint'] == 0] for x in all_submitted_commands]\n",
    "\n",
    "all_used_pipelines = []\n",
    "for i in range(len(all_draws)):\n",
    "    all_used_pipelines.append([all_pipeline_binds[i][bisect.bisect_left(all_pipeline_binds[i], x)-1] for x in all_draws[i]])\n",
    "\n",
    "pipelines = defaultdict(int)\n",
    "for x in all_used_pipelines:\n",
    "    for y in x:\n",
    "        pipelines[trace.commands[y[1]]['pipeline']] += 1\n",
    "\n",
    "fig, ax =  matplotlib.pyplot.subplots()\n",
    "ax.bar([str(x) for x in pipelines.keys()], [x for x in pipelines.values()])\n",
    "matplotlib.pyplot.show()"
   ]
  },
  {
   "cell_type": "code",
   "execution_count": null,
   "metadata": {},
   "outputs": [],
   "source": [
    "top_used = sorted([(x, v) for x, v in pipelines.items()], key=lambda x: x[1], reverse=True)\n",
    "top_used_pipelines = [next(x for x in all_pipeline_creations if x['pPipelines'][0] == y[0]) for y in top_used[:10]]\n",
    "\n",
    "ipywidgets.widgets.HTML(json_html.get_html_for_commands(top_used_pipelines))"
   ]
  }
 ],
 "metadata": {
  "kernelspec": {
   "display_name": "Python 3.9.13 ('base')",
   "language": "python",
   "name": "python3"
  },
  "language_info": {
   "codemirror_mode": {
    "name": "ipython",
    "version": 3
   },
   "file_extension": ".py",
   "mimetype": "text/x-python",
   "name": "python",
   "nbconvert_exporter": "python",
   "pygments_lexer": "ipython3",
   "version": "3.9.13"
  },
  "orig_nbformat": 4,
  "vscode": {
   "interpreter": {
    "hash": "cc8e5058f68ae25fd0b682edbcb4bd875f373e41e844c915b7302617da639678"
   }
  }
 },
 "nbformat": 4,
 "nbformat_minor": 2
}
