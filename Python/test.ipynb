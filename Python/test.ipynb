{
 "cells": [
  {
   "cell_type": "code",
   "execution_count": 20,
   "metadata": {},
   "outputs": [
    {
     "name": "stdout",
     "output_type": "stream",
     "text": [
      "Status: GAPID environment initialized\n",
      "Status:     Gapir: d:\\src\\gapid\\build\\Debug\\gapir.exe\n",
      "Status:     Printer: d:\\src\\gapid\\build\\Debug\\printer.exe\n"
     ]
    }
   ],
   "source": [
    "# Initialize GAPID environment\n",
    "from helpers import gapid_env\n",
    "from importlib import reload\n",
    "reload(gapid_env)\n",
    "import os\n",
    "\n",
    "pathdir = globals()['_dh'][0]\n",
    "env = gapid_env.gapid_env(os.path.normpath(os.path.join(pathdir, \"..\", \"build\", \"Debug\")))\n"
   ]
  },
  {
   "cell_type": "code",
   "execution_count": 2,
   "metadata": {},
   "outputs": [
    {
     "data": {
      "application/vnd.jupyter.widget-view+json": {
       "model_id": "535b0da4fa474c129d773067947b02e2",
       "version_major": 2,
       "version_minor": 0
      },
      "text/plain": [
       "FileChooser(path='D:\\src\\gapid\\Python', filename='', title='<b>Select Trace</b>', show_hidden=False, select_de…"
      ]
     },
     "metadata": {},
     "output_type": "display_data"
    },
    {
     "name": "stdout",
     "output_type": "stream",
     "text": [
      "Status: Loading trace D:\\src\\file.trace\n",
      "Status: Loaded trace D:\\src\\file.trace\n"
     ]
    }
   ],
   "source": [
    "# Select and load trace file\n",
    "from helpers import trace as gapid_trace\n",
    "from importlib import reload\n",
    "reload(gapid_trace)\n",
    "\n",
    "from ipyfilechooser import FileChooser\n",
    "\n",
    "\n",
    "fc = FileChooser()\n",
    "if env.current_trace:\n",
    "    fc.default_path = os.path.dirname(env.current_trace)\n",
    "    fc.default_filename = os.path.basename(env.current_trace)\n",
    "\n",
    "fc.filter_pattern = \"*.trace\"\n",
    "fc.title = \"<b>Select Trace</b>\"\n",
    "trace = None\n",
    "def change_file(chooser):\n",
    "    global trace\n",
    "    current_trace = os.path.join(chooser.selected_path, chooser.selected_filename)\n",
    "    trace =  gapid_trace.load_trace(env, current_trace)\n",
    "fc.register_callback(change_file)\n",
    "display(fc)"
   ]
  },
  {
   "cell_type": "code",
   "execution_count": 23,
   "metadata": {},
   "outputs": [
    {
     "name": "stdout",
     "output_type": "stream",
     "text": [
      "{\n",
      "    \"Total Commands\": 238839,\n",
      "    \"Frame Count\": 10,\n",
      "    \"Loading time\": \"21.0s\",\n",
      "    \"MEC Commands\": 193159,\n",
      "    \"Application Commands\": 45680,\n",
      "    \"Average Commands Per Frame\": 4568.0\n",
      "}\n"
     ]
    }
   ],
   "source": [
    "# Report stats about the trace\n",
    "import json\n",
    "from importlib import reload\n",
    "reload(gapid_trace)\n",
    "\n",
    "cmd_stats = trace.get_stats()\n",
    "print(json.dumps(cmd_stats, indent=\"    \"))\n"
   ]
  },
  {
   "cell_type": "code",
   "execution_count": 5,
   "metadata": {},
   "outputs": [
    {
     "name": "stdout",
     "output_type": "stream",
     "text": [
      "Total Draws: 8335\n",
      "  vkCmdDrawIndexed: 6685\n",
      "  vkCmdDrawIndexedIndirect: 110\n",
      "  vkCmdDraw: 1540\n",
      "Total Dispatches: 8335\n",
      "  vkCmdDispatch: 360\n"
     ]
    }
   ],
   "source": [
    "# Count the draw commands actually submitted\n",
    "from collections import defaultdict\n",
    "\n",
    "queue_submits = [i for i, v in enumerate(trace.commands) if (v[\"name\"] == \"vkQueueSubmit\" and (v[\"tracer_flags\"] & gapid_trace.MID_EXECUTION) == 0)]\n",
    "\n",
    "submitted_draws = []\n",
    "submitted_dispatches = []\n",
    "for x in queue_submits:\n",
    "    executed_cbs = trace.executed_commands[x]\n",
    "    for y in executed_cbs:\n",
    "        submitted_draws.extend([x for x in y if \"Draw\" in trace.commands[x][\"name\"]])\n",
    "        submitted_dispatches.extend([x for x in y if \"Dispatch\" in trace.commands[x][\"name\"]])\n",
    "l = defaultdict(list)\n",
    "for x in submitted_draws:\n",
    "    l[trace.commands[x][\"name\"]].append(x)\n",
    "\n",
    "print(f\"Total Draws: {len(submitted_draws)}\")\n",
    "for k in l.keys():\n",
    "    print(f\"  {k}: {len(l[k])}\")\n",
    "\n",
    "l = defaultdict(list)\n",
    "for x in submitted_dispatches:\n",
    "    l[trace.commands[x][\"name\"]].append(x)\n",
    "\n",
    "print(f\"Total Dispatches: {len(submitted_draws)}\")\n",
    "for k in l.keys():\n",
    "    print(f\"  {k}: {len(l[k])}\")"
   ]
  },
  {
   "cell_type": "code",
   "execution_count": 86,
   "metadata": {},
   "outputs": [
    {
     "name": "stdout",
     "output_type": "stream",
     "text": [
      "Status: Trying to run d:\\src\\gapid\\build\\Debug\\gapir.exe --socket localhost --port 55554 D:\\src\\file.trace\n",
      "{'Message': 'Info', 'Time': Decimal('4.04482'), 'Content': 'Initializing time:: 2.037782'}\n",
      "{'Message': 'Info', 'Time': Decimal('10.1829'), 'Content': 'Mec Time:: 5.3990197'}\n",
      "{'Message': 'Info', 'Time': Decimal('10.183'), 'Content': 'Run time:: 0.738911'}\n"
     ]
    }
   ],
   "source": [
    "from helpers import replay\n",
    "from importlib import reload\n",
    "reload(replay)\n",
    "\n",
    "opts = replay.replay_options(trace)\n",
    "opts.use_callback_swapchain()\n",
    "\n",
    "replay.replay(env, opts)"
   ]
  }
 ],
 "metadata": {
  "kernelspec": {
   "display_name": "Python 3.9.13 ('base')",
   "language": "python",
   "name": "python3"
  },
  "language_info": {
   "codemirror_mode": {
    "name": "ipython",
    "version": 3
   },
   "file_extension": ".py",
   "mimetype": "text/x-python",
   "name": "python",
   "nbconvert_exporter": "python",
   "pygments_lexer": "ipython3",
   "version": "3.9.13"
  },
  "orig_nbformat": 4,
  "vscode": {
   "interpreter": {
    "hash": "cc8e5058f68ae25fd0b682edbcb4bd875f373e41e844c915b7302617da639678"
   }
  }
 },
 "nbformat": 4,
 "nbformat_minor": 2
}
